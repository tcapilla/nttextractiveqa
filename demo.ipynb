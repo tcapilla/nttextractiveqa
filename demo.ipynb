{
 "cells": [
  {
   "cell_type": "markdown",
   "metadata": {},
   "source": [
    "## Task: Question Answering for NTT Healthcare\n",
    "\n",
    "\n",
    "\n",
    "\n"
   ]
  },
  {
   "cell_type": "code",
   "execution_count": 1,
   "metadata": {},
   "outputs": [],
   "source": [
    "from haystack import Finder\n",
    "from haystack.indexing.cleaning import clean_wiki_text\n",
    "from haystack.indexing.utils import convert_files_to_dicts, fetch_archive_from_http\n",
    "from haystack.reader.farm import FARMReader\n",
    "from haystack.reader.transformers import TransformersReader\n",
    "from haystack.utils import print_answers"
   ]
  },
  {
   "cell_type": "code",
   "execution_count": 2,
   "metadata": {
    "pycharm": {
     "name": "#%%\n"
    },
    "tags": []
   },
   "outputs": [
    {
     "name": "stderr",
     "output_type": "stream",
     "text": [
      "09/13/2020 18:06:52 - INFO - elasticsearch -   PUT http://localhost:9200/document [status:200 request:0.152s]\n",
      "09/13/2020 18:06:52 - INFO - elasticsearch -   PUT http://localhost:9200/label [status:200 request:0.153s]\n"
     ]
    }
   ],
   "source": [
    "# Connect to Elasticsearch\n",
    "\n",
    "from haystack.database.elasticsearch import ElasticsearchDocumentStore\n",
    "document_store = ElasticsearchDocumentStore(host=\"localhost\", username=\"\", password=\"\", index=\"document\")"
   ]
  },
  {
   "cell_type": "markdown",
   "metadata": {},
   "source": [
    "## Cleaning documents and inserting in elasticsearch\n",
    "\n",
    "\n",
    "\n"
   ]
  },
  {
   "cell_type": "code",
   "execution_count": 4,
   "metadata": {
    "pycharm": {
     "name": "#%%\n"
    },
    "tags": [
     "outputPrepend"
    ]
   },
   "outputs": [
    {
     "name": "stdout",
     "output_type": "stream",
     "text": [
      "/home/teo/haystack/tutorials\n",
      "[{'text': \"Most eukaryotic genes are interrupted by intronic sequences that must be removed from pre-messenger RNAs by the splicing machinery. These introns are typically spliced out in a sequential order, resulting in the production of a linear mRNA. However, the splicing machinery can also ''backsplice'' and join a splice donor to an upstream splice acceptor (e.g., join the end of exon 2 to the beginning of exon 2), thereby generating a circular RNA with covalently linked ends ( Figure 1 ). Thousands of genes can generate circular RNAs that accumulate in the cytoplasm, but most rarely do so because backsplicing is far less efficient (1%) than canonical splicing (reviewed in Wilusz, 2018) . Nevertheless, some circular RNAs accumulate to high levels and sequester microRNAs or RNA binding proteins or, alternatively, serve as templates for translation. Most other individual circular RNAs are expressed at exceedingly low levels, so it has remained unclear what biological function (if any) they exert. In this issue of Cell, Liu et al. (2019) reveal that circular RNAs can collectively bind and suppress activation of the kinase PKR, thereby controlling innate immune responses. The innate immune system is the first line of defense against invading pathogens and involves a set of receptors that recognize pathogen structures (reviewed in Mogensen, 2009 ). Among these receptors, PKR recognizes long (>33 bp) dsRNAs in the cytoplasm and then inhibits protein synthesis. PKR thus needs to be readily activatable yet maintained in an inactive state in uninfected cells to prevent inappropriate reactions and autoimmunity. Previous work has shown that PKR activation can be blocked upon binding the adenovirus small noncoding VAI RNA (Kitajewski et al., 1986) or short (16-33 bp) dsRNAs (Zheng and Bevilacqua, 2004) , and Liu et al. (2019) now find that many endogenous circular RNAs are able to bind PKR. Interestingly, when the binding profiles of linear and circular RNAs of the same sequence were compared, circular RNAs bound much more strongly to PKR. This suggested that circular RNAs have distinct structures from linear RNAs. Indeed, structural mapping revealed that most circular RNAs in cells form stable secondary structures with short (16-26 bp) imperfect duplexes, while linear RNAs folded into more dynamic, unstable structures (Liu et al., 2019) .\\nThe short dsRNA regions within circular RNAs enable binding to PKR, but for what purpose? Liu et al. (2019) found that high levels of individual circular RNAs are sufficient to suppress PKR activity in vitro, but most circular RNAs are expressed at only a handful of copies per cell. It is thus highly unlikely that any individual circular RNA can function as an efficient PKR inhibitor in vivo. Nevertheless, if one considers all circular RNAs as a group, there are 9,000-10,000 copies of circular RNAs in each HeLa cell, and most form 1-4 dsRNA regions. This translates to no less than 10,000 dsRNA regions present within circular RNAs that could potentially bind and inhibit PKR. To test this stoichiometry-based model, Liu et al. (2019) used plasmids to express individual circular RNAs to very high levels (5,000-6,000 copies per cell), thereby increasing the overall circular RNA pool. They then examined PKR activation kinetics after these HeLa cells were stimulated with the dsRNA mimic poly(I:C) or infected with an RNA virus, encephalomyocarditis virus (EMCV). Compared to wild-type cells, PKR activity was greatly reduced by circular RNA overexpression. In contrast, overexpression of a linear RNA of the same sequence had no effect on PKR, nor did overexpression of a circular RNA that lacked dsRNA regions. Collectively, these results indicate that endogenous circular RNAs can bind PKR to shield its dsRNAmediated activation even in the presence of pathogenic dsRNAs.\\nIf circular RNAs naturally bind and inhibit PKR, the question then becomes how PKR is activated when needed. Circular RNAs have been considered to be highly stable transcripts as their covalently closed structures make them resistant to exonucleases. Remarkably, Liu et al. (2019) show that the vast majority (80%-90%) of circular RNAs are degraded within 1-2 hr of cells being stimulated with poly(I:C) or infected with EMCV. This is due to activation of oligoadenylate synthetase (OAS) and the cytoplasmic endonuclease RNase L, which catalyzes cleavage of viral and cellular RNAs after UN dinucleotides (where N = A, C, G, or U) (Wreschner et al., 1981) . While 10%-30% of linear mRNAs were degraded after poly(I:C) stimulation or EMCV infection, the depletion of mature circular RNAs was much more drastic (Liu et al., 2019) . This is largely because circular RNAs are rarely generated, and the amount of nascent circular RNAs being produced cannot compensate for the rapid degradation. The authors thus propose that this rapid fall in mature circular RNA levels enables PKR to be released and then activated upon recognizing pathogenic dsRNAs. When circular RNA levels remained high (e.g., due to the circular RNA overexpression plasmids), Liu et al. (2019) found that PKR failed to be efficiently activated. This suggests that RNase L may act upstream of PKR, but there are previous studies that have found no requirement for RNase L in PKR activation, e.g., during infection with murine coronavirus (Kindler et al., 2017) . In fact, extended PKR activation was observed in RNase L knockout mouse embryonic fibroblasts after stimulation with poly(I:C) or EMCV infection (Khabar et al., 2003) . The underlying reason(s) for these conflicting results are currently unclear. Liu et al. (2019) further found a global reduction in circular RNAs in peripheral blood mononuclear cells (PBMCs) from patients with the autoimmune disease systemic lupus erythematosus (SLE) compared to normal controls. This was coupled to increased RNase L activity (perhaps due to more dsRNA being present in patient-derived cells) and enhanced PKR activation. Nevertheless, overexpression of circular RNAs was able to reverse these phenotypes and cause reduced expression of IFNb and type I IFN-induced genes. This suggests the exciting potential of modulating circular RNA levels as a therapeutic strategy for SLE. For example, exogenously produced circular RNAs could be introduced, although the dosages would need to be well controlled, especially since overexpression of circular and lariat RNAs can facilitate some viral infections (Zhang et al., 2018; Liu et al., 2019) . In addition, there are conflicting reports on whether such exogenously produced circular RNAs themselves trigger immune responses (Wesselhoeft et al., 2019) .\\nConsidering that little long dsRNA is thought to be present in the cytoplasm of uninfected normal cells, it will be very important in the future to clarify why PKR would need to be subjected to such active suppression by circular RNAs. Interestingly, circular RNA levels were not modulated by many other immune stimulatory treatments examined by Liu et al. (2019) , including lipopolysaccharide or interferon-b. This indicates context specificity and further work is now needed to determine if circular RNAs play any role in the activation of other innate immune receptors, especially in well-characterized disease and animal models. \\nA pre-mRNA can be spliced to generate a linear mRNA or a circular RNA. In normal uninfected cells, many circular RNAs act as a group to bind and inhibit activity of the PKR kinase (1). Upon viral infection (2), pathogenic double-stranded RNAs (dsRNAs) can be produced that lead to activation of RNase L (3), which endonucleolytically cleaves circular RNAs. This releases PKR (4) which can then bind the pathogenic dsRNAs and become activated (5) to inhibit the viral infection (6).\\nDeneke et al. (2019) discover that dynamic interactions of cell cycle and actomyosin contractility systems synchronize nuclear cleavages, generating a cytoplasmic flow that results in a spatially uniform distribution of zygotic nuclei in the early Drosophila embryo. This work underscores the importance of self-organizing mechanisms before the onset of zygotic transcription.\\nThere is no doubt that a lion's share of the remarkable robustness in embryonic development arises from genetic regulation (Peter and Davidson, 2015) . The genome of an organism provides a script for the sequential unfolding of a bewildering number of cellular and tissue-level processes that ensure reliable formation of functional organs. Even slight alterations in this script or imperfections in its interpretation can disrupt embryogenesis, either terminating it altogether or causing devastating developmental abnormalities. Numerous mechanisms ensure that the script itself remains unchanged and that it is followed down to the last detail. Notably however, some of the earliest steps of embryonic development are reliably executed before the all-powerful gene networks start to function. During this stage of development, i.e., before the onset of zygotic transcription, the early embryo relies on mechanisms that do not require a script, but are just as robust and reliable as gene regulation. In this issue of Cell, Deneke and colleagues demonstrate how these highly desirable properties can arise in a self-organizing manner, from dynamic interactions of core intracellular systems (Deneke et al., 2019; Figure 1 ).\\nThe experimental model is the early Drosophila embryo at the stage during which synchronized 13 mitotic divisions lead to an exponential increase in the number of zygotic nuclei, generating 6,000 nuclei in only 2 hours after egg fertilization (Rabinowitz, 1941; Foe and Alberts, 1983) . By the end of the 2nd hour of embryogenesis, the nuclei are distributed in a spatially-uniform monolayer under a common plasma membrane of the embryo, ready to be patterned by maternal morphogen gradients. How does the embryo form this relatively static and blank canvas for subsequent pattern formation and morphogenetic events?\\nThe early divisions occur in the middle of the embryo, forming an expanding group of nuclei that occupy larger and larger volume, just as one would expect for an exponentially growing group of cells in three dimensions. The second phase of nuclear cleavages brings about a surprise: Instead of continuing to spread and filling the entire volume of the embryo, the nuclei appear to be ''carried'' to the surface of the embryo, distributing themselves under the common plasma membrane. Once at the membrane, nuclei remain in two dimensions and divide four more times, before the onset of zygotic transcription and tissue patterning. The repositioning of the nuclei from a three-to a two-dimensional space occurs in a highly reliable fashion, always leading to a uniform nuclear monolayer after nine rounds of nuclear divisions. However, the mechanisms underlying this robust dimensionality reduction have remained unclear, partly because imaging divisions inside the embryo is technically challenging. Genetic and pharmacological studies pointed toward several possible mechanisms, including local restructuring of cytoskeleton and control of cell surface contractility, but these mechanisms were largely qualitative and difficult to test experimentally, leaving one of the critical steps of early Drosophila embryogenesis unexplained (von Dassow and Schubiger, 1994; Royou et al., 2002) .\", 'meta': {'name': 'covid19_6f07c83e4725e356c064b0f3f882699f59335282.txt'}}, {'text': 'inhabited urban areas, which are particularly common in Asia. 12 Although the emergence of SARS was recent, a wide range of epidemiological studies have been published both during and since the 2003 epidemics. Increasingly sophisticated techniques and more powerful computers now permit rigorous epidemiological and genetic analysis of epidemics as they unfold. The goals of such analyses include the following: understanding the origin of the disease with a view to preventing subsequent outbreaks; estimation of key biological and epidemiological parameters; identification of risk factors for susceptibility, infectiousness, and mortality; prediction of future trends in infection and case incidence; and assessment of the effectiveness of public-health control measures. Some of these goals can be achieved through the application of widely-used epidemiological methods, such as case-control studies, 13 which are applicable to a wide range of medical conditions. However, others require techniques specifically designed for the analysis of infectious diseases, 14 which, although less widely used, have a long history. [15] [16] [17] [18] [19] Here we review the epidemiological literature on SARS, as an example of an important novel infectious disease, and consider the contributions of the various approaches. In doing so, we highlight the benefits that were realised from epidemiological analyses and to suggest how, in future outbreaks, such methods might be used even more effectively.\\nUnprecedented levels of international cooperation led to the sequencing of two SARS viral genomes within 6 weeks of the identification of atypical pneumonia in Hong Kong. 20, 21 Alignment to the genomes of known groups 1, 2, and 3 coronaviruses showed that SARS coronavirus is phylogenetically distinct, and only distantly related to the other coronavirus clades. These early analyses showed that SARS coronavirus is not a recently evolved pathogen, and group 4 was proposed within which to classify the novel coronavirus. 20, 21 Subsequent alignment of the SARS coronavirus replicase open reading frame (ORF) 1b (about 5500 bp) genome segment, using the genus Torovirus (order Nidovirales) to root the tree, suggested that SARS coronavirus represents an early split-off from the coronavirus group 2 lineage 22 and should be thought of as a group 2 subgroup. This result has found support from other studies using alternative outgroups 23, 24 and methods. [23] [24] [25] [26] [27] However, as clearly shown by analyses of other coronaviruses, 28, 29 single-stranded RNA viruses are prone to recombination within and between lineages. This greatly complicates phylogenetic analyses, as different regions of the genome will have different evolutionary histories. Marra and colleagues 20 proposed that SARS coronavirus may have undergone intergroup recombination after noting that the SARS coronavirus S2m motif is found in the group 3 avian coronaviruses, as well as the more distantly related equine rhinovirus (Picornaviridae). Later studies focused on the SARS coronavirus spike (S), matrix (M), nucleocapsid (N), replicase polyprotein (PP1ab), and RNA-dependent RNA polymerase (RDRP) proteins with Bayesian techniques.\\nHere, phylogenetic incongruence was reported to occur across the SARS coronavirus genome, by showing that the M and N genes were most likely to have originated from an ancestral bird (group 3) coronavirus, whereas PP1ab showed homology with a mammalian-like (group 2) coronavirus. 24 Sliding-window approaches suggested that the S and RDRP genes are candidate mosaic sequences and identified the possible site of the original interlineage recombination events. 24, 30 It has been proposed that recombination in the crucial S protein may have generated a virus with modified host specificities, leading to the contemporary emergence in human populations. 24 An event of similar nature may have led to the 1918 Spanish influenza pandemic. However, the bootstrap methods used 24, 30 support an independent, and genetically distant, SARS coronavirus clade for all genes. This suggests that any recombination events, if they have occurred, are evidently ancient and therefore not implicated in the current emergence of SARS coronavirus in human populations.\\nRetrospective assessments of case reports identified 11 index cases from the Guangdong Province, China, the earliest of which was recorded from the city of Foshan on Nov 16, 2002 . 10 These index cases were unlinked, except for the epidemiological observation that seven of the 11 patients worked with animals in the food industry. 31 Within liveanimal markets in Guangdong Province, 13-40% of wildanimal traders and slaughterers were seropositive for SARS; 9,32 these findings led to the speculation that SARS is a zoonosis from an unidentified animal source. Suspicion focused on palm civet cats because 73% of the traders primarily trading in masked palm civet cats tested seropositive for the virus. 32 PCR and serological surveys of 25 animals from the liveanimal market found serological evidence for infection in five Himalayan palm civet cats, a raccoon dog, and a Chinese ferret-badger. Coronaviruses were successfully isolated from the palm civet cats and raccoon dog, yielding two full-length genomes with 99·8% homology to human SARS coronavirus. 9 Further surveys of civet cats farmed in Hubei Province have shown that these too are infected with a SARS-like coronavirus. 31 Comparative analyses of the Shenzhen civet cat sequences against those from 11 human isolates showed that the human and animal isolates are phylogenetically distinct. 33 The genetic distance between civet cat coronavirus isolates is greater than that observed between geographically (China, Hong Kong, Canada) and temporally separated (early and mid-epidemic) human SARS coronavirus isolates. 9 These data suggest that SARS originated from an animal reservoir, and that the ultimate source of the coronavirus that caused the emergence of the human SARS coronavirus genotype remains unclear. However, sequence data from a recent case (GD03T0013, isolated Dec 16, 2003) has found closer grouping with the civet cat coronaviruses than was previously observed, 31 suggesting that civet cats may indeed be the source of SARS coronavirus. Further attempts to isolate the virus from market animals has met with little success. [34] [35] [36] Final confirmation of the animal reservoir of SARS coronavirus therefore awaits a systematic survey of Chinese fauna.\\nBy May 9, 2003, 14 genomes of SARS coronavirus had been sequenced. 37 This total has risen to 100 GenBank depositions by May, 2004. Molecular analyses have shown that the early phase of the epidemic was characterised by two genotypes. The first (cluster A) is composed of 10 isolates corresponding to the very early cases from Guangdong Province and three separate introductions to Hong Kong. 33 The second (cluster B) corresponds to the so-called superspreading event (SSE) triggered by the arrival of patient 1 (HKU-33) in Hong Kong; 31, 33 this is the genotype that ultimately became pan-global. The finding that most of the SARS coronavirus genetic diversity occurs within cluster A is consistent with the epidemiological observations that Guangdong Province, China, is the geographical point of origin for the emergence of the virus.\\nIf we assume that SARS coronavirus had a single emergence within human populations, the most recent common ancestor of SARS coronavirus will correspond to our best approximation for the emergence of the virus. Efforts to date the most recent common ancestor of SARS coronavirus have mostly followed the rationale that was used to date the emergence of HIV-1 M group viruses. 38 This relies on building a phylogenetic tree of isolates to find the most deeply branched sequences, then assuming neutral clock-like evolution to date the root of the tree. Using the divergence of S-gene sequences from 139 patients, 33 However, although promising, these studies necessarily rely on isolates that are collected over a short timescale and are probably rapidly evolving. Whereas contemporary isolates are rare, there have been recent infections that are not associated with laboratory escapes. 31 Due to the observation that the isolate GD03T0013 is the most deeply rooted yet seen, use of this sequence to date the most recent common ancestor of SARS coronavirus will push back the epidemic\\'s origin, perhaps significantly. If done, such an analysis would suggest that SARS coronavirus has been circulating, undetected, in China for longer than was previously expected. It is also evident from comparisons of non-synonymous to synonymous substitution rates (Ka/Ks) in the S protein that the SARS genome is under strong directional selection. 31 The use of techniques that account for variation in the rates of evolution over the course of the epidemic (ie, Bayesian evolutionary analysis sampling trees, BEAST v1·0·2, available from http://evolve.zoo.ox.ac.uk/ beast/ [accessed ) would therefore be appropriate.\\nA key factor in the epidemiology of an infectious disease is the incubation period, which is defined as the time from infection to onset of clinical symptoms of disease. 40 The distribution of the incubation period has important implications for contact tracing and quarantine strategies, so accurate estimates of the distribution are an important goal for early epidemiological investigations of a novel disease. Furthermore, the average incubation period influences the timescale of the development of the epidemic, as it partly determines the time interval between a case and the infections that the case subsequently generates. Identification of determinants of the incubation period, such as age, infectious dose, and host genetics, can provide insights into the mechanisms of disease progression.\\nAlthough infection events cannot be observed directly, some patients retrospectively reported well-defined periods of exposure to one or more known SARS cases. When an event (ie, infection) is only known to have occurred within a defined period, the data are said to be interval censored. 41 Patients with long periods of exposure are uninformative; however, patients with short and well-defined periods of exposure are informative, even though the exact date of infection is unknown. These data, when analysed appropriately, can be used to estimate the distribution of incubation periods in the patient population.\\nSummaries and analyses of incubation period data have been published for various populations of patients (table 1) . In many cases, the difficulties posed by interval censoring led to researchers presenting descriptive summary statistics without further analysis. Other work corrected for the interval censoring by use of both parametric 47 and nonparametric 57 approaches. However, it should be noted that naive analyses that assume patients were equally likely to have been infected throughout their reported interval 57 overestimate the variance in the distribution and could also bias the estimates of the mean incubation period, with the size of these problems depending on the width of the reported exposure intervals.\\nGiven the difficulties inherent in the interpretation of interval-censored data, the central estimates (means and medians; table 1) are remarkably consistent in patients in China, Hong Kong, Singapore, and Canada (with central estimates ranging from 4 to 6). The mean from European cases, 7·2 days, was somewhat higher, but the estimate is uncertain because it is based on only five cases. 54 The maximum incubation period is less clear, with a number of reports of incubation periods exceeding WHO\\'s maximum incubation period of 10 days. 45, 50, 54 The WHO consensus document on the epidemiology of SARS, published in October, 2003, noted the existence of incubation period outliers of more than 10 days, but suggested they had \"not necessarily been subjected to rigorous and standardised investigation\". 54 Furthermore, interval censoring causes particular difficulties in assessing the maximum incubation period, and if midpoints in large exposure intervals are relied on then errors can result. For example, an incubation period in a patient exposed to a SARS case 5-25 days before symptom onset might be naively (and most likely incorrectly) reported as a 15-day incubation period.\\nThree studies reported somewhat higher mean incubation periods (8, 7·3, and 7·6 days). [58] [59] [60] Similarly, another group 61 reported that, although the index case had an incubation period of 4 days, the secondary and tertiary generations had incubation periods of 7 and 8 days, respectively, noting that shorter incubation periods were associated with longer fevers and greater clinical severity. By contrast, He and colleagues 62 reported a mean incubation period of 4·5 days in patients from Guangdong Province, China, and Li and colleagues 63 reported a median incubation period of 3 days (range 1-10 days) in Beijing, China. However, we were unable to obtain full translations of these papers so were not able to determine how these estimates were obtained.\\nSince only a small proportion of the SARS cases will have data suitable for estimation of the incubation period distribution, international collaboration would be particularly valuable. (WHO has suggested that such data exist on only 200 cases worldwide. 54 ) Such efforts would, however, need to go well beyond straightforward analysis of a merged dataset, due to the care and precision required to define periods of exposure to SARS infection accurately. If an international dataset were systematically compiled, then rigorous overall estimates of the incubation period distribution could be obtained, and any dependence of the incubation period distribution on patients\\' characteristics (ie, age, sex, stage of the epidemic) could be determined.\\nFollowing the appearance of symptoms, virtually all SARS patients were either admitted to hospital or placed under home quarantine. Disease progression was best summarised by Peiris and colleagues 64 who followed 75 SARS patients for 3 weeks after admission to hospital in Hong Kong. Patients experienced a recurrence of symptoms after a mean of 8·9 days, a peak in viral load at approximately 10 days after admission, and 60% of patients had seroconverted by 20 days. The rates of admission to intensive care units (ICUs) in cohorts worldwide ranged from 23% to 40%, with a high proportion of those admitted with acute respiratory distress syndrome and requiring mechanical ventilation. 45, [65] [66] [67] [68] [69] Transmission of SARS in most cases could be linked to direct close contact with another SARS case. Many of these contacts were nosocomial. Roughly half of cases were healthcare workers, in studies in Hong Kong 45 and Guangzhou, China, 70 and 77% of cases were exposed in hospital, in a study from the Toronto area, Canada. 46 Although these studies are convenience samples drawn from particular hospitals, the levels reported are similar to those reported from the national database of SARS cases in Hong Kong (with 49% of the SARS cases resulting from infections occurring in clinics, hospitals, or elderly or nursing homes; G M Leung, Department of Community Medicine, University of Hong Kong, personal communication).\\nWithin the community, rates of transmission were generally low, with 8% of household contacts infected in one study in Hong Kong 71 and 6·7% in a study in Singapore. 72 The closeness of contact also seems to be important. For example, in a large retrospective examination of case notes of quarantined close contacts of SARS cases in Beijing, China, the overall attack rate was 6·3%, with the highest rates (15·4%) in spouses and lowest rates in work and school contacts (0·36%). 73 These figures are further supported by large-scale screening for SARS coronavirus antibodies in direct contacts of SARS cases, which have very low rates (0·2% were positive for SARS coronavirus IgG antibodies 74 ). Nosocomial transmission therefore seems to have been the major source of new infections, with higher attack rates reported in this setting. For example, in a study of nosocomial outbreak in Toronto, rates in nurses working in the emergency department, ICU, and coronary care unit ranged from 10% to 60%. 52 Good barrier protection was essential to prevent transmission: in a case-control study in Hong Kong, inconsistent use of goggles, gowns, gloves, and caps was significantly associated with a higher risk of SARS. 75\\nEarly in the epidemic, with little known about the pathogenicity of SARS, there was substantial concern about the increasing rates of morbidity and mortality that were being reported through individual case reports. Estimation of the case fatality rate (CFR; the percentage of people diagnosed as having a specific disease who die as a result of that disease) during an outbreak is complicated because the eventual outcomes of patients still in hospital are unknown at the time of analysis. The duration of hospital stay depended on the severity of illness, but for most patients this was in the region of 14 days to 1 month. 47, 76 Naive estimates of the CFR, based simply on the cumulative number of deaths divided by the cumulative number of cases, 77 were therefore particularly misleading because they yielded underestimates of the true mortality. This bias was reduced as the epidemic progressed (and as the outcome of a greater percentage of patients was known), which is why reported estimates of CFR seemed to indicate that mortality was increasing over time, causing some to incorrectly conclude that SARS coronavirus was evolving to be more lethal. 78, 79 The earliest estimates that used appropriate statistical methodology were published in May, 2003, with data from Hong Kong 47 and worldwide, 48 and gave final CFR estimates of between 14% and 18%. Table 2 shows the estimates obtained in various cohorts, with CFRs at 21 days after hospital admission of 6·5% and 10%, at 28 days of 10%, and at 3 months of 12%. 46, [65] [66] [67] CFRs for those admitted to ICUs were significantly higher, with estimates at 28 days of 26% and 34% in Hong Kong and Toronto cohorts, respectively. 80, 82 Several cohorts have consistently described the course of disease for SARS patients, using these data to assess factors that contribute to an increased risk of an adverse outcome. The definition of adverse outcome varies, but generally includes death, admission to an ICU requiring mechanical ventilation, and development of acute respiratory distress syndrome. Most studies identify older age as a factor that increases the probability of an adverse event. 45, [64] [65] [66] 68, 80, 82 The strong association between age and CFR is also clearly seen in national case reports, with CFR estimates in those aged over 60 years particularly high. 47 Furthermore, no deaths from SARS occurred in children, who had fewer complications and less severe symptoms. 83, 84 The presence of co-morbidities, including diabetes mellitus, hypertension, coronary artery disease, and chronic obstructive pulmonary disease, also significantly increased the risk of adverse outcomes and death from SARS, 46, 64, 65, 80, 82, 85 and probably helps to explain the strong association between the CFR and age. Indeed, in some cohorts, deaths almost exclusively occurred in patients with other co-morbidities. 69, 85 Other notable factors contributing to higher CFRs were sex (with men at higher risk than women), 45,86 high lactate dehydrogenase concentration at presentation, 45, 66 and higher viral loads. 87 Most patients with SARS received some treatment that was based on previous experience with respiratory infections and evolved over the course of the epidemic. For this reason, most reports of the success of different treatments are observational and may be subject to treatment allocation bias. Common treatments included administration of antibiotics, ribavirin, and corticosteroids, 46, 64, 69, 82, 88, 89 with the HIV-1 antiviral drug lopinavir also tested later in the epidemic in Hong Kong. 90 In one study in Guangzhou, China, patients were randomly allocated to one of four treatment regimens, with the best response seen in the group receiving early high-dose steroids. 88 However, as was the case for the observational studies, the study was not fully randomised since this fourth group consisted of patients diagnosed later in calendar time than the other three groups.\\nTraditional epidemiological approaches cannot be used to assess the population-level risk posed by an emerging infectious disease. The expected number of cases on any given day is determined by the current size of the outbreak, the transmissibility of the disease, and the mixing behaviour of the population, with the infection process causing positive feedback, which results in highly non-linear trends in case incidence over time. Mathematical epidemic models 14 describe (with varying levels of realism) the underlying mechanisms and dynamics of disease progression in the infected individual and transmission in the population. They are therefore also known as mechanistic or dynamical models. It is now common practice for the continuing population-level risk from infectious disease to be assessed using such models.\\nThe most important concept underlying the dynamics of infectious disease epidemics is that of the reproduction number R t . This is defined to be the average number of new infections caused by one infectious case, over the whole course of that individual\\'s infectious period. At the very start of an outbreak (t=0), the basic reproduction number, R 0 , is defined to be the average number of secondary cases caused by the index case in an entirely susceptible population. If R 0 is greater than 1, then an infectious disease outbreak has the potential to establish itself, resulting in an epidemic that will infect a substantial proportion of the population if there is no significant change in either the behaviour (ie, reduced mixing) or the susceptibility of the population (ie, through vaccination). If disease spread is not controlled, the number of new cases each day will not start to decline until the pool of susceptible people has been substantially depleted.\\nThe objective of disease control is therefore to reduce R t to below 1 as quickly as possible, either by reducing contact rates in the population through public-health campaigns or improving hospital infection control. Reducing R t to below 1 causes a rapid reduction in case incidence long before a significant proportion of the population has been affected. However, the relative ease with which an epidemic can be controlled is critically dependent on the magnitude of R 0 . 14 To control an epidemic with R 0 =10 through vaccination, 90% of the population need to be immunised, whereas if R 0 =2, the level of coverage required drops to 50%. Table 3 summarises the structure, fitting method, and results of modelling studies published during and after the SARS epidemic. R 0 values from between 1·05 and 7·7 have been estimated for SARS in different settings. 53, [92] [93] [94] [95] [97] [98] [99] SSEs (see below) are included in the model presented by Riley and colleagues, 92 but excluded from their R 0 estimate of 2·1-3·7 for SARS in Hong Kong. Wallinga and Teunis 99 used an elegant method based on individual cases to infer the most likely network of contacts between cases from partial exposure data and estimates of the generation time distribution. This method allows direct non-parametric estimation of the mean and distribution of R t through time. They calculated R t to be 3 before the WHO global alert on March 12, 2003 , and 0·7 afterwards. Lipsitch and colleagues 93 give a much broader range of 1·1-7·7 for R 0 . These estimates were derived using two methods, one fitting exponential growth to three pre-selected timepoints for data from Hong Kong, Canada, and Singapore, and a second, more sophisticated approach, resembling that used by Wallinga and Teunis. 99 Overall, SARS can be classified as moderately transmissible, with smallpox being slightly more transmissible (R 0 =4-10) 100 and measles being much more transmissible (R 0 =7-45). 101 All the regional SARS outbreaks were controlled relatively quickly, implying that R t was rapidly brought below 1. However, the reason for this drop in R t is the subject of some debate. Riley and colleagues 92 showed that very little of the drop in R t can be attributed to changes in the speed with which people are admitted to hospital, and suggested that it was due to a general reduction in overall mixing in the community, coupled with improved infection control in hospitals. Lloyd-Smith and co-workers 102 use a relatively complex model of community and hospital transmission to show that it was improved infection control in hospital that contributed most to reductions in transmissibility.\\nThe reproduction number is, of course, not the only factor determining how difficult it is to control an epidemic. The generation time, T g (also called the serial interval), the average time between a person being infected and infecting others, also plays an important role in determining the feasibility of any control measures. Diseases with a very short generation time, such as influenza (T g =3 days), spread so rapidly that reactive control measures such as contact tracing are unlikely to be practical. Conversely, smallpox may be comparably transmissible but has a much longer generation time (T g >14 days), making contact tracing, pre-infectious diagnosis, and isolation or treatment much more feasible.\\nThe third key factor determining the likely success of simple public-health interventions (such as isolation or contact tracing) against an emerging disease is when infectiousness occurs during disease progression. 103 Diseases for which a substantial proportion of transmission occurs before the onset of clear symptoms make reactive control measures such as case isolation less effective. However, if symptoms nearly always precede the onset of substantial infectiousness (as was the case with SARS), rapid and effective diagnosis, hospital admission, and isolation of clinical cases is predicted to be a highly effective means to control transmission. This issue is the topic of a recent analytical study, 103 which examined the formal relation between the outcome of public-health measures, R 0 , and the proportion of pre-symptomatic or asymptomatic transmission.\\nThe main benefit of mechanistic models, compared with purely descriptive models, is their ability to allow the exploration of hypothetical situations (table 4) . This can take the form of examination of the impact of a range of potential control options on case incidence (such as the imposition of movement restrictions, 92 or improved quarantine and contact tracing 93 ), or the investigation of disease spread in a novel setting (such as Japan, where there were no SARS cases 104 ). Such investigations do, by definition, involve extrapolation beyond the observed data. However, when presented with careful sensitivity analyses that show the extent to which key results depend on model assumptions, these studies can provide valuable insights to scientists and public-health policy makers. \\nHeterogeneity in contact rates or infectiousness has been recognised as a key factor in determining patterns of infectious disease spread for many years. 14 However, for SARS the importance of such heterogeneity was particularly underscored by the occurrence of a few dramatic SSEs in which single individuals were responsible for infecting many times more individuals than the average (given by R t ). The examples of patient 1 in Hong Kong, who infected 10 people in the Metropole Hotel (known as Hotel M) and additional people after his admission to St Paul\\'s Hospital, Hong Kong, 106 and the Amoy Gardens 107,108 cluster in Hong Kong are the best known, but patients who generated large numbers (>10) of secondary cases were also identified in Singapore (with at least five such patients 49 ) and Canada. 52 However, super-spreading individuals are not unique to SARS. Their existence has been well documented for tuberculosis, 109 measles, 110, 111 and smallpox, 112 and they are believed to have occurred in other diseases including Ebola 113 and the zoonotic transmission of monkeypox. 114 Furthermore, the importance of a small number of individuals with high rates of partner change is critical to the epidemiology of many sexually transmitted infections. 115, 116 There will, of course, be variability in the number of secondary cases from any primary case owing to random variation, even without any underlying variation due to characteristics of the primary case. However, if all cases have identical levels and durations of infectiousness with constant contact probabilities, such variation is expected to be Poisson. 117 Once variation in the duration of infectiousness period is allowed for, higher than Poisson variance is expected, with negative binomially distributed numbers of secondary cases expected for exponentially distributed infectiousness. 93, [117] [118] [119] However, key to the debate surrounding SSEs is whether such events are merely the extreme tail of a continuous distribution 93 or they represent a distinct separate class of cases. 92, 105 Although some of the SSEs (particularly those in Hong Kong) seem too extreme to have arisen from an underlying continuous distribution, it should be noted that estimating the frequency of SSEs from case data in a single region is subject to severe selection biases. This is because in Review SARS epidemiology and genetics *In their simplest form, such model structures divide individuals into three compartments: susceptible (S), infected (I), and recovered (R), with recovered individuals assumed to be immune to further infection; for this reason, such models are often called SIR models. Extensions of SIR models have included additional classes of individuals: exposed (E, also known as latent), hospitalised (H), quarantined (Q), and dead (D).\\nthe earliest stages of a local outbreak the occurrence of an SSE dramatically lowers the chances of that outbreak becoming extinct by chance. 93 Hence, SSEs are more likely to have occurred early in the outbreaks in those locations where large outbreaks were seen (eg, Toronto, Hong Kong, Singapore). Ideally, one would like to characterise the overall distribution of secondary case numbers for SARS before and after controls were introduced. To do this rigorously would require a global analysis, given the early importance of international spread. However, the detailed contact tracing data required for such an analysis does not exist in some areas, and are incomplete for others where large outbreaks were seen. Irrespective of whether SSEs are a discrete class of transmission events or the tail of a distribution, it cannot be assumed that variation in secondary case numbers is primarily due to biological variation in the amount of virus shed by patients and hence their infectiousness. Variation in contact rates with other individuals in the population is also likely to have been important, and may indeed have been the dominant factor explaining SSEs. Such variation might be in the frequency of direct contacts (eg, large numbers of medical personnel saw the index patient in the Prince of Wales Hospital in Hong Kong 120 ) or indirect contacts (eg, unusual modes of viral spread in the Metropole Hotel and Amoy Gardens 107,108 ). Characterisation of heterogeneity in contact rates has been the topic of much research in infectious disease epidemiology, 14, 121, 122 and various modelling approaches (including stratified population models [123] [124] [125] [126] and individual-based network models 127 ) have been developed to incorporate such heterogeneity. Masuda and colleagues 105 use a network-based approach to model SARS, and concluded that SSEs are best explained by an increase in infectiousness in a few individuals, rather than extreme contact-rate heterogeneity. However, these conclusions are dependent on the investigators\\' simplifying assumptions about network structure. Overall, identifying the biological, social, or environmental causes for SSEs is important for the development of strategies for efficiently preventing or controlling such events, since the optimal choice of tactics to be employed will depend on the causative mechanisms.\\nDespite the substantial achievements already made in understanding the origin and determinants of spread of the SARS epidemics, important questions remain unanswered. These include clarification of how, if at all, seasonality contributed to the epidemic patterns observed; understanding precisely how transmission took place within particular settings (eg, hospital wards); gaining insight into the extent to which differences in social networks contributed to heterogeneity in SARS transmission; and determining the zoonotic origins of the virus. Answering these questions will depend mainly on the reliability and availability of the relevant data and will require multiple methodological approaches.\\nFor example, investigating the impact, if any, of seasonality on transmission would require coordinated modelling of the large SARS epidemics (in China, Hong Kong, Taiwan, Singapore, and Canada) to separate the effects of temporal changes in humidity, temperature, and other environmental factors from the effects of temporal changes in epidemiological factors, such as contact tracing and reduced mixing. Greater understanding of within-ward transmission would be gained into risk factors associated with both infectiousness and susceptibility from detailed stochastic modelling of patient and healthcare worker contacts. This work could usefully build on published Markov chain Monte Carlo models of nosocomial transmission. 128 As well as giving greater insights into processes underlying the SARS epidemic, the models and estimation methods developed will strengthen the set of analytical tools available for the analysis of future epidemics. In each case, surveillance and data quality are fundamental to providing sound foundations to underpin analyses and conclusions. Contingency plans developed on the basis of the experience of the SARS epidemics have rightly placed a high priority on both surveillance and contact tracing. 129, 130 Epidemiological modelling has clarified the types of diseases that can be controlled with the straightforward public measures of isolation and contact tracing. 103 More detailed modelling will be required to further clarify the potential impact of further measures, including restrictions on both short-range and long-range movements of people. A review of recent smallpox modelling 131 cautioned that modelling efforts should not set the nearly impossible goal of identifying the best public-health strategy in advance of an epidemic, but should identify sets of recommended actions with associated decision rules for adaptive management as an epidemic unfolds.\\nWe declare that we have no conflicts of interest.\\nInfectious Diseases Vol 4 November 2004 http://infection.thelancet.com\\nData for this review were identified by searches of PubMed, ISI Web of Science, Medline, and references from relevant articles. Search terms were \"severe acute respiratory syndrome\", \"SARS\", \"incubation period\", \"mortality\", \"attack rate\", and \"model\". Only English language papers were reviewed. Publication dates (based on electronic publication for those many SARS publications published in this fast-track manner) are given in tables to indicate the timeline of data availability and analysis.', 'meta': {'name': 'covid19_e08ff7855eaa0c9d0bb785dcffc24e65910b7184.txt'}}, {'text': \"Encephalitozoon cuniculi (E. cuniculi) is an obligate intracellular microsporidian parasite and infects a wide range of mammalian hosts, such as rabbits, rodents, dogs and humans [10, 11, 15] . E. cuniculi is an opportunistic pathogen in human patients with acquired immunodeficiency syndrome and other immunocompromised people [3, 8] . Infected animals are arguably the reservoirs of human encephalitozoonosis [3] . Encephalitozoonosis is commonly observed in rabbits, and therefore, clinical assessment and diagnosis is well established in this species [8] . Although infections due to E. cuniculi are not common in cats, E. cuniculi infections have been reported to occur in cats abroad [2, 8, 14] . One author reported that the potential role of cats in the transmission of the infectious agent cannot be excluded [14] . In Japan, a seroepidemiological survey of E. cuniculi infection in domesticated dogs and domesticated rabbits has been performed [7, 16] , but the prevalence of E. cuniculi infections in cats has not been reported. E. cuniculi in subclinically infected cats may represent a reservoir and potential risk for immunocompromised patients [11, 12] . The purpose of this study was to determine the seroprevalence of E. cuniculi in cats in Japan to serve as baseline epidemiologic data and a potential source of microsporidial infection in Japan. In addition, we compared the seropositive rate of domesticated cats with feral cats.\\nFurthermore, we examined four infectious diseases including Toxoplasma gondii (T. gondii), Feline coronavirus (FCoV), feline leukemia virus (FeLV) and feline immuno-deficiency virus (FIV) that are major diseases of the cat and compared the seroprevalence in feral cats and domesticated cats.\\nSerum samples were collected from 295 cats that were brought in for surgical neutering to a private animal hospital in the Nagano Prefecture in Japan from September 2011 to September 2012. On examination, there were no clinical signs. The living environment of the examined cats was investigated by questioning the owners, and cats were classified into two groups: feral cats (i.e., no owner, lives outdoors) or domesticated cats (i.e., lives indoors and sometimes outdoors). The age was unidentified because not managed breeding environment. Serum samples were stored at −30°C prior to serological examination. Animal experimentation protocols (e.g., epidemiology investigation) were approved by the president of Kitasato University in accordance with the judgment of the Institutional Animal Care and Use Committee of Kitasato University (Towada, Japan; approval no. 15-064).\\nTesting for antibodies against E. cuniculi was performed using an enzyme-linked immunosorbent assay (ELISA) with glutathione S-transferase fusion polar tube protein 2 as the antigen [16] . Individual cat serum samples diluted to 1:400 and horseradish peroxidase-conjugated goat anti-feline immunoglobulin G antibody (MP Biomedicals, Santa Ana, CA, U.S.A.) diluted to 1:10,000 were used as the first and second antibodies, respectively.\\nTesting for antibodies against T. gondii was performed using a commercial latex agglutination test kit (Toxotest, Eiken Chemical Co., Ltd., Tokyo, Japan) in accordance with the manufacturer's instructions. Tests for antibodies against FCoV were performed using a previously published ELISA protocol with feline infectious peritonitis virus solubilization antigen as the antigen [17] . Tests for FeLV antigen and FIV antibody were performed using a commercial assay kit (SNAP FIV/FeLV Combo; IDEXX Laboratories, West- The overall seropositive rate to E. cuniculi was 6.1% (18/295), which included 6.3% (6/96) of the male cats and 6.0% (12/199 ) of the female cats; the incidence in feral cats (8.3%, 11/132) was slightly higher than in domesticated cats (4.3%, 7/163) ( Table 1) . This was not statistically significant. Moreover, 20.0% (59/295) were seropositive to T. gondii, 23.7% (70/295) to FCoV, 2.4% (7/295) to FeLV and 10.5% (31/295) to FIV. Toxoplasma gondii and FIV seropositive rates were 31.8% and 16.7%, respectively, in feral cats and 10.4% and 5.5%, respectively, in domesticated cats. The FIV seropositivity was significantly higher in males (15.6%) than in females (8.0%) ( Table 2 ). The association between E. cuniculi positive samples and the positive samples of four major infectious diseases was assessed, however, this was not significant E. cuniculi infects a wide range of mammalian hosts, including humans [3] . In animals, the main target organs are the central nervous system and the kidney, which can result in a granulomatous encephalitis and nephritis [12] . The life cycle of E. cuniculi is simple and direct and, like other microsporidia, involves a proliferative merogonic stage, followed by a sporogonic stage resulting in rupture of the host cell and release of small (1.5 × 2.5 µm), environmentally resistant, infective spores [12] . Spores can survive for many months in humid environments [9] . However, the natural mechanisms of E. cuniculi transmission are not fully understood. It is believed that the disease is spread horizontally in breeding with larger numbers of animals by the fecal-oral route, but above all, along the oro-urinal pathway [4] . Vertical, transplacental transmission of the infection may also play a key role in the epidemiology and pathogenesis, especially in carnivores and rodents [6, 13] . However, little is known about the occurrence of E. cuniculi in wildlife [12] .\\nIn cats, clinical disease is reportedly rare [12] . Infections with E. cuniculi occur in subclinically infected cats and may represent a reservoir and potential risk for immunocompromised patients and animals [7, 8] .\\nIn our study, serum samples of 295 cats were examined for the presence of antibodies against E. cuniculi. Though there were no clinical signs on general inspection, we found 6.1% of cats in Japan that had E. cuniculi antibodies (Table  1) . A seroprevalence of 24% (17/72) of cats has been reported in Eastern Slovakia [4] , and a recent study in Virginia, U.S.A., found a seroprevalence of 6.5% (15/232) [5] . These differences may reflect the different habitats where samples were obtained and the level of exposure to other sources of infection [12] . Furthermore, it has been reported that there are no sex differences in the prevalence of E. cuniculi [1] , and the results of our study agree.\\nIn our study, E. cuniculi seropositivity was not significantly different in domesticated cats compared to feral cats. This result may reflect the habitat of cats from which samples were obtained and that samples were not obtained from cats that resided completely indoor. On the other hand, it is reported that wildlife species have the potential to be significant reservoirs of infection for both domesticated animals and humans [12] . Furthermore, previous studies have sequenced a mouse strain in cats, indicating that the mouse may be a reservoir for infection in cats [1] . In a previous study, seroprevalence investigations in Japan revealed E. cuniculi infection in feral rodents [18] . In addition, we found 8.3% of feral cats in Japan that had E. cuniculi antibodies. In the cats of Japan, the mouse can be regarded as one of the important source of E. cuniculi infection.\\nIn conclusion, this is the first report of E. cuniculi infection in cats in Japan. This suggests the possibility that the cats of our country have become a reservoir of E. cuniculi. This result indicates the importance of performing screening examinations of animals with the aim of reducing or halting of the spread of this disease. To further elucidate the route of infection, further studies are needed including the distribution of E. cuniculi infection in cats in Japan, other potential hosts or to discover the mouse strain of infection in cats by sequencing.\\nCONFLICT OF INTEREST. The authors declare no conflicts of interest directly relevant to the content of this article. \", 'meta': {'name': 'covid19_7048d2fc8e7a1daab3747ea6d2257a874a9723b0.txt'}}]\n"
     ]
    },
    {
     "name": "stderr",
     "output_type": "stream",
     "text": [
      "09/13/2020 18:08:26 - INFO - elasticsearch -   POST http://localhost:9200/_bulk?refresh=wait_for [status:200 request:2.262s]\n",
      "09/13/2020 18:08:28 - INFO - elasticsearch -   POST http://localhost:9200/_bulk?refresh=wait_for [status:200 request:2.077s]\n",
      "09/13/2020 18:08:31 - INFO - elasticsearch -   POST http://localhost:9200/_bulk?refresh=wait_for [status:200 request:2.030s]\n",
      "09/13/2020 18:08:33 - INFO - elasticsearch -   POST http://localhost:9200/_bulk?refresh=wait_for [status:200 request:2.109s]\n",
      "09/13/2020 18:08:35 - INFO - elasticsearch -   POST http://localhost:9200/_bulk?refresh=wait_for [status:200 request:2.097s]\n",
      "09/13/2020 18:08:38 - INFO - elasticsearch -   POST http://localhost:9200/_bulk?refresh=wait_for [status:200 request:2.108s]\n",
      "09/13/2020 18:08:40 - INFO - elasticsearch -   POST http://localhost:9200/_bulk?refresh=wait_for [status:200 request:2.086s]\n",
      "09/13/2020 18:08:42 - INFO - elasticsearch -   POST http://localhost:9200/_bulk?refresh=wait_for [status:200 request:2.112s]\n",
      "09/13/2020 18:08:43 - INFO - elasticsearch -   POST http://localhost:9200/_bulk?refresh=wait_for [status:200 request:1.074s]\n",
      "09/13/2020 18:08:46 - INFO - elasticsearch -   POST http://localhost:9200/_bulk?refresh=wait_for [status:200 request:2.125s]\n",
      "09/13/2020 18:08:48 - INFO - elasticsearch -   POST http://localhost:9200/_bulk?refresh=wait_for [status:200 request:2.089s]\n",
      "09/13/2020 18:08:50 - INFO - elasticsearch -   POST http://localhost:9200/_bulk?refresh=wait_for [status:200 request:2.120s]\n",
      "09/13/2020 18:08:52 - INFO - elasticsearch -   POST http://localhost:9200/_bulk?refresh=wait_for [status:200 request:2.100s]\n",
      "09/13/2020 18:08:56 - INFO - elasticsearch -   POST http://localhost:9200/_bulk?refresh=wait_for [status:200 request:3.089s]\n",
      "09/13/2020 18:08:58 - INFO - elasticsearch -   POST http://localhost:9200/_bulk?refresh=wait_for [status:200 request:1.898s]\n",
      "09/13/2020 18:09:00 - INFO - elasticsearch -   POST http://localhost:9200/_bulk?refresh=wait_for [status:200 request:2.169s]\n",
      "09/13/2020 18:09:03 - INFO - elasticsearch -   POST http://localhost:9200/_bulk?refresh=wait_for [status:200 request:2.177s]\n",
      "09/13/2020 18:09:05 - INFO - elasticsearch -   POST http://localhost:9200/_bulk?refresh=wait_for [status:200 request:2.154s]\n",
      "09/13/2020 18:09:07 - INFO - elasticsearch -   POST http://localhost:9200/_bulk?refresh=wait_for [status:200 request:2.150s]\n",
      "09/13/2020 18:09:10 - INFO - elasticsearch -   POST http://localhost:9200/_bulk?refresh=wait_for [status:200 request:2.138s]\n",
      "09/13/2020 18:09:12 - INFO - elasticsearch -   POST http://localhost:9200/_bulk?refresh=wait_for [status:200 request:2.155s]\n",
      "09/13/2020 18:09:14 - INFO - elasticsearch -   POST http://localhost:9200/_bulk?refresh=wait_for [status:200 request:2.154s]\n",
      "09/13/2020 18:09:17 - INFO - elasticsearch -   POST http://localhost:9200/_bulk?refresh=wait_for [status:200 request:2.059s]\n",
      "09/13/2020 18:09:19 - INFO - elasticsearch -   POST http://localhost:9200/_bulk?refresh=wait_for [status:200 request:2.148s]\n",
      "09/13/2020 18:09:21 - INFO - elasticsearch -   POST http://localhost:9200/_bulk?refresh=wait_for [status:200 request:1.995s]\n",
      "09/13/2020 18:09:24 - INFO - elasticsearch -   POST http://localhost:9200/_bulk?refresh=wait_for [status:200 request:2.177s]\n",
      "09/13/2020 18:09:26 - INFO - elasticsearch -   POST http://localhost:9200/_bulk?refresh=wait_for [status:200 request:2.091s]\n",
      "09/13/2020 18:09:27 - INFO - elasticsearch -   POST http://localhost:9200/_bulk?refresh=wait_for [status:200 request:1.114s]\n",
      "09/13/2020 18:09:29 - INFO - elasticsearch -   POST http://localhost:9200/_bulk?refresh=wait_for [status:200 request:2.123s]\n",
      "09/13/2020 18:09:32 - INFO - elasticsearch -   POST http://localhost:9200/_bulk?refresh=wait_for [status:200 request:2.153s]\n",
      "09/13/2020 18:09:34 - INFO - elasticsearch -   POST http://localhost:9200/_bulk?refresh=wait_for [status:200 request:2.180s]\n",
      "09/13/2020 18:09:36 - INFO - elasticsearch -   POST http://localhost:9200/_bulk?refresh=wait_for [status:200 request:2.063s]\n",
      "09/13/2020 18:09:39 - INFO - elasticsearch -   POST http://localhost:9200/_bulk?refresh=wait_for [status:200 request:2.095s]\n",
      "09/13/2020 18:09:41 - INFO - elasticsearch -   POST http://localhost:9200/_bulk?refresh=wait_for [status:200 request:2.092s]\n",
      "09/13/2020 18:09:43 - INFO - elasticsearch -   POST http://localhost:9200/_bulk?refresh=wait_for [status:200 request:2.114s]\n",
      "09/13/2020 18:09:46 - INFO - elasticsearch -   POST http://localhost:9200/_bulk?refresh=wait_for [status:200 request:2.119s]\n",
      "09/13/2020 18:09:47 - INFO - elasticsearch -   POST http://localhost:9200/_bulk?refresh=wait_for [status:200 request:1.109s]\n",
      "09/13/2020 18:09:49 - INFO - elasticsearch -   POST http://localhost:9200/_bulk?refresh=wait_for [status:200 request:2.100s]\n",
      "09/13/2020 18:09:51 - INFO - elasticsearch -   POST http://localhost:9200/_bulk?refresh=wait_for [status:200 request:2.082s]\n",
      "09/13/2020 18:09:54 - INFO - elasticsearch -   POST http://localhost:9200/_bulk?refresh=wait_for [status:200 request:2.066s]\n",
      "09/13/2020 18:09:56 - INFO - elasticsearch -   POST http://localhost:9200/_bulk?refresh=wait_for [status:200 request:2.147s]\n",
      "09/13/2020 18:09:58 - INFO - elasticsearch -   POST http://localhost:9200/_bulk?refresh=wait_for [status:200 request:1.788s]\n",
      "09/13/2020 18:10:00 - INFO - elasticsearch -   POST http://localhost:9200/_bulk?refresh=wait_for [status:200 request:2.065s]\n",
      "09/13/2020 18:10:02 - INFO - elasticsearch -   POST http://localhost:9200/_bulk?refresh=wait_for [status:200 request:2.073s]\n",
      "09/13/2020 18:10:05 - INFO - elasticsearch -   POST http://localhost:9200/_bulk?refresh=wait_for [status:200 request:2.093s]\n",
      "09/13/2020 18:10:07 - INFO - elasticsearch -   POST http://localhost:9200/_bulk?refresh=wait_for [status:200 request:2.014s]\n",
      "09/13/2020 18:10:09 - INFO - elasticsearch -   POST http://localhost:9200/_bulk?refresh=wait_for [status:200 request:2.024s]\n",
      "09/13/2020 18:10:11 - INFO - elasticsearch -   POST http://localhost:9200/_bulk?refresh=wait_for [status:200 request:1.097s]\n",
      "09/13/2020 18:10:12 - INFO - elasticsearch -   POST http://localhost:9200/_bulk?refresh=wait_for [status:200 request:1.085s]\n",
      "09/13/2020 18:10:13 - INFO - elasticsearch -   POST http://localhost:9200/_bulk?refresh=wait_for [status:200 request:1.087s]\n",
      "09/13/2020 18:10:14 - INFO - elasticsearch -   POST http://localhost:9200/_bulk?refresh=wait_for [status:200 request:1.088s]\n",
      "09/13/2020 18:10:17 - INFO - elasticsearch -   POST http://localhost:9200/_bulk?refresh=wait_for [status:200 request:2.115s]\n",
      "09/13/2020 18:10:19 - INFO - elasticsearch -   POST http://localhost:9200/_bulk?refresh=wait_for [status:200 request:2.029s]\n",
      "09/13/2020 18:10:21 - INFO - elasticsearch -   POST http://localhost:9200/_bulk?refresh=wait_for [status:200 request:2.152s]\n",
      "09/13/2020 18:10:23 - INFO - elasticsearch -   POST http://localhost:9200/_bulk?refresh=wait_for [status:200 request:1.959s]\n",
      "09/13/2020 18:10:26 - INFO - elasticsearch -   POST http://localhost:9200/_bulk?refresh=wait_for [status:200 request:2.079s]\n",
      "09/13/2020 18:10:27 - INFO - elasticsearch -   POST http://localhost:9200/_bulk?refresh=wait_for [status:200 request:1.097s]\n",
      "09/13/2020 18:10:29 - INFO - elasticsearch -   POST http://localhost:9200/_bulk?refresh=wait_for [status:200 request:2.109s]\n",
      "09/13/2020 18:10:32 - INFO - elasticsearch -   POST http://localhost:9200/_bulk?refresh=wait_for [status:200 request:2.158s]\n",
      "09/13/2020 18:10:34 - INFO - elasticsearch -   POST http://localhost:9200/_bulk?refresh=wait_for [status:200 request:2.041s]\n",
      "09/13/2020 18:10:36 - INFO - elasticsearch -   POST http://localhost:9200/_bulk?refresh=wait_for [status:200 request:2.114s]\n",
      "09/13/2020 18:10:37 - INFO - elasticsearch -   POST http://localhost:9200/_bulk?refresh=wait_for [status:200 request:1.088s]\n",
      "09/13/2020 18:10:40 - INFO - elasticsearch -   POST http://localhost:9200/_bulk?refresh=wait_for [status:200 request:2.125s]\n",
      "09/13/2020 18:10:42 - INFO - elasticsearch -   POST http://localhost:9200/_bulk?refresh=wait_for [status:200 request:2.155s]\n",
      "09/13/2020 18:10:43 - INFO - elasticsearch -   POST http://localhost:9200/_bulk?refresh=wait_for [status:200 request:1.096s]\n",
      "09/13/2020 18:10:46 - INFO - elasticsearch -   POST http://localhost:9200/_bulk?refresh=wait_for [status:200 request:2.104s]\n",
      "09/13/2020 18:10:48 - INFO - elasticsearch -   POST http://localhost:9200/_bulk?refresh=wait_for [status:200 request:2.114s]\n",
      "09/13/2020 18:10:50 - INFO - elasticsearch -   POST http://localhost:9200/_bulk?refresh=wait_for [status:200 request:2.101s]\n",
      "09/13/2020 18:10:52 - INFO - elasticsearch -   POST http://localhost:9200/_bulk?refresh=wait_for [status:200 request:2.094s]\n",
      "09/13/2020 18:10:55 - INFO - elasticsearch -   POST http://localhost:9200/_bulk?refresh=wait_for [status:200 request:2.082s]\n",
      "09/13/2020 18:10:57 - INFO - elasticsearch -   POST http://localhost:9200/_bulk?refresh=wait_for [status:200 request:2.077s]\n",
      "09/13/2020 18:10:58 - INFO - elasticsearch -   POST http://localhost:9200/_bulk?refresh=wait_for [status:200 request:1.090s]\n",
      "09/13/2020 18:10:59 - INFO - elasticsearch -   POST http://localhost:9200/_bulk?refresh=wait_for [status:200 request:1.099s]\n",
      "09/13/2020 18:11:02 - INFO - elasticsearch -   POST http://localhost:9200/_bulk?refresh=wait_for [status:200 request:2.103s]\n",
      "09/13/2020 18:11:04 - INFO - elasticsearch -   POST http://localhost:9200/_bulk?refresh=wait_for [status:200 request:2.098s]\n",
      "09/13/2020 18:11:06 - INFO - elasticsearch -   POST http://localhost:9200/_bulk?refresh=wait_for [status:200 request:2.120s]\n",
      "09/13/2020 18:11:08 - INFO - elasticsearch -   POST http://localhost:9200/_bulk?refresh=wait_for [status:200 request:2.118s]\n",
      "09/13/2020 18:11:10 - INFO - elasticsearch -   POST http://localhost:9200/_bulk?refresh=wait_for [status:200 request:1.123s]\n",
      "09/13/2020 18:11:11 - INFO - elasticsearch -   POST http://localhost:9200/_bulk?refresh=wait_for [status:200 request:1.094s]\n",
      "09/13/2020 18:11:13 - INFO - elasticsearch -   POST http://localhost:9200/_bulk?refresh=wait_for [status:200 request:2.124s]\n",
      "09/13/2020 18:11:15 - INFO - elasticsearch -   POST http://localhost:9200/_bulk?refresh=wait_for [status:200 request:2.102s]\n",
      "09/13/2020 18:11:18 - INFO - elasticsearch -   POST http://localhost:9200/_bulk?refresh=wait_for [status:200 request:2.097s]\n",
      "09/13/2020 18:11:19 - INFO - elasticsearch -   POST http://localhost:9200/_bulk?refresh=wait_for [status:200 request:1.088s]\n",
      "09/13/2020 18:11:21 - INFO - elasticsearch -   POST http://localhost:9200/_bulk?refresh=wait_for [status:200 request:2.117s]\n",
      "09/13/2020 18:11:22 - INFO - elasticsearch -   POST http://localhost:9200/_bulk?refresh=wait_for [status:200 request:1.096s]\n",
      "09/13/2020 18:11:25 - INFO - elasticsearch -   POST http://localhost:9200/_bulk?refresh=wait_for [status:200 request:2.020s]\n",
      "09/13/2020 18:11:27 - INFO - elasticsearch -   POST http://localhost:9200/_bulk?refresh=wait_for [status:200 request:2.105s]\n",
      "09/13/2020 18:11:29 - INFO - elasticsearch -   POST http://localhost:9200/_bulk?refresh=wait_for [status:200 request:2.105s]\n",
      "09/13/2020 18:11:30 - INFO - elasticsearch -   POST http://localhost:9200/_bulk?refresh=wait_for [status:200 request:1.103s]\n",
      "09/13/2020 18:11:33 - INFO - elasticsearch -   POST http://localhost:9200/_bulk?refresh=wait_for [status:200 request:2.160s]\n",
      "09/13/2020 18:11:35 - INFO - elasticsearch -   POST http://localhost:9200/_bulk?refresh=wait_for [status:200 request:2.125s]\n",
      "09/13/2020 18:11:37 - INFO - elasticsearch -   POST http://localhost:9200/_bulk?refresh=wait_for [status:200 request:2.104s]\n",
      "09/13/2020 18:11:39 - INFO - elasticsearch -   POST http://localhost:9200/_bulk?refresh=wait_for [status:200 request:1.106s]\n",
      "09/13/2020 18:11:41 - INFO - elasticsearch -   POST http://localhost:9200/_bulk?refresh=wait_for [status:200 request:2.123s]\n",
      "09/13/2020 18:11:42 - INFO - elasticsearch -   POST http://localhost:9200/_bulk?refresh=wait_for [status:200 request:1.100s]\n",
      "09/13/2020 18:11:44 - INFO - elasticsearch -   POST http://localhost:9200/_bulk?refresh=wait_for [status:200 request:2.094s]\n",
      "09/13/2020 18:11:47 - INFO - elasticsearch -   POST http://localhost:9200/_bulk?refresh=wait_for [status:200 request:2.119s]\n",
      "09/13/2020 18:11:48 - INFO - elasticsearch -   POST http://localhost:9200/_bulk?refresh=wait_for [status:200 request:1.093s]\n",
      "09/13/2020 18:11:50 - INFO - elasticsearch -   POST http://localhost:9200/_bulk?refresh=wait_for [status:200 request:2.152s]\n",
      "09/13/2020 18:11:52 - INFO - elasticsearch -   POST http://localhost:9200/_bulk?refresh=wait_for [status:200 request:2.101s]\n",
      "09/13/2020 18:11:55 - INFO - elasticsearch -   POST http://localhost:9200/_bulk?refresh=wait_for [status:200 request:2.137s]\n",
      "09/13/2020 18:11:57 - INFO - elasticsearch -   POST http://localhost:9200/_bulk?refresh=wait_for [status:200 request:2.138s]\n",
      "09/13/2020 18:11:59 - INFO - elasticsearch -   POST http://localhost:9200/_bulk?refresh=wait_for [status:200 request:2.115s]\n",
      "09/13/2020 18:12:02 - INFO - elasticsearch -   POST http://localhost:9200/_bulk?refresh=wait_for [status:200 request:2.096s]\n",
      "09/13/2020 18:12:04 - INFO - elasticsearch -   POST http://localhost:9200/_bulk?refresh=wait_for [status:200 request:2.117s]\n",
      "09/13/2020 18:12:05 - INFO - elasticsearch -   POST http://localhost:9200/_bulk?refresh=wait_for [status:200 request:1.095s]\n"
     ]
    },
    {
     "name": "stdout",
     "output_type": "stream",
     "text": [
      "==============FINISHED TO INTRODUCE DOCUMENTS=================\n"
     ]
    }
   ],
   "source": [
    "import os\n",
    "doc_dir = \"../data\"\n",
    "print(os.getcwd())\n",
    "\n",
    "# Convert files to dicts\n",
    "# You can optionally supply a cleaning function that is applied to each doc (e.g. to remove footers)\n",
    "# It must take a str as input, and return a str.\n",
    "dicts = convert_files_to_dicts(dir_path=doc_dir, clean_func=clean_wiki_text, split_paragraphs=True)\n",
    "\n",
    "# We now have a list of dictionaries that we can write to our document store.\n",
    "# If your texts come from a different source (e.g. a DB), you can of course skip convert_files_to_dicts() and create the dictionaries yourself.\n",
    "# The default format here is: {\"name\": \"<some-document-name>, \"text\": \"<the-actual-text>\"}\n",
    "# (Optionally: you can also add more key-value-pairs here, that will be indexed as fields in Elasticsearch and\n",
    "# can be accessed later for filtering or shown in the responses of the Finder)\n",
    "\n",
    "# Let's have a look at the first 3 entries:\n",
    "print(dicts[:3])\n",
    "\n",
    "# Now, let's write the dicts containing documents to our DB.\n",
    "document_store.write_documents(dicts)\n",
    "print(\"==============FINISHED TO INTRODUCE DOCUMENTS=================\")"
   ]
  },
  {
   "cell_type": "markdown",
   "metadata": {},
   "source": [
    "## Initialize Retriever\n"
   ]
  },
  {
   "cell_type": "code",
   "execution_count": 4,
   "metadata": {},
   "outputs": [],
   "source": [
    "from haystack.retriever.sparse import ElasticsearchRetriever\n",
    "retriever = ElasticsearchRetriever(document_store=document_store)"
   ]
  },
  {
   "cell_type": "code",
   "execution_count": 5,
   "metadata": {
    "pycharm": {
     "is_executing": false,
     "name": "#%%\n"
    }
   },
   "outputs": [],
   "source": [
    "# Alternative: An in-memory TfidfRetriever based on Pandas dataframes for building quick-prototypes with SQLite document store.\n",
    "\n",
    "# from haystack.retriever.sparse import TfidfRetriever\n",
    "# retriever = TfidfRetriever(document_store=document_store)"
   ]
  },
  {
   "cell_type": "markdown",
   "metadata": {},
   "source": [
    "## Initialize model to search question in elasticsearch passages"
   ]
  },
  {
   "cell_type": "code",
   "execution_count": 6,
   "metadata": {
    "pycharm": {
     "is_executing": false
    },
    "tags": []
   },
   "outputs": [
    {
     "name": "stderr",
     "output_type": "stream",
     "text": [
      "09/11/2020 13:07:13 - INFO - farm.utils -   device: cpu n_gpu: 0, distributed training: False, automatic mixed precision training: None\n",
      "09/11/2020 13:07:13 - INFO - farm.infer -   Could not find `deepset/roberta-base-squad2` locally. Try to download from model hub ...\n",
      "09/11/2020 13:07:18 - WARNING - farm.modeling.language_model -   Could not automatically detect from language model name what language it is. \n",
      "\t We guess it's an *ENGLISH* model ... \n",
      "\t If not: Init the language model by supplying the 'language' param.\n",
      "09/11/2020 13:07:25 - WARNING - farm.modeling.prediction_head -   Some unused parameters are passed to the QuestionAnsweringHead. Might not be a problem. Params: {\"loss_ignore_index\": -1}\n",
      "09/11/2020 13:07:29 - INFO - farm.utils -   device: cpu n_gpu: 0, distributed training: False, automatic mixed precision training: None\n",
      "09/11/2020 13:07:30 - INFO - farm.infer -   Got ya 3 parallel workers to do inference ...\n",
      "09/11/2020 13:07:30 - INFO - farm.infer -    0    0    0 \n",
      "09/11/2020 13:07:30 - INFO - farm.infer -   /w\\  /w\\  /w\\\n",
      "09/11/2020 13:07:30 - INFO - farm.infer -   /'\\  / \\  /'\\\n",
      "09/11/2020 13:07:30 - INFO - farm.infer -       \n"
     ]
    },
    {
     "name": "stdout",
     "output_type": "stream",
     "text": [
      "=========teminado FARMReader\n"
     ]
    }
   ],
   "source": [
    "# Load a  local model or any of the QA models on\n",
    "# Hugging Face's model hub (https://huggingface.co/models)\n",
    "\n",
    "reader = FARMReader(model_name_or_path=\"deepset/roberta-base-squad2\", use_gpu=False)\n",
    "print(\"=========teminado FARMReader\")"
   ]
  },
  {
   "cell_type": "code",
   "execution_count": 7,
   "metadata": {},
   "outputs": [],
   "source": [
    "# Alternative:\n",
    "# reader = TransformersReader(model=\"distilbert-base-uncased-distilled-squad\", tokenizer=\"distilbert-base-uncased\", use_gpu=-1)"
   ]
  },
  {
   "cell_type": "markdown",
   "metadata": {},
   "source": [
    "### Take the passages and find the best answer/passage"
   ]
  },
  {
   "cell_type": "code",
   "execution_count": 8,
   "metadata": {
    "pycharm": {
     "is_executing": false
    }
   },
   "outputs": [],
   "source": [
    "finder = Finder(reader, retriever)"
   ]
  },
  {
   "cell_type": "markdown",
   "metadata": {},
   "source": [
    "## Question and Answer"
   ]
  },
  {
   "cell_type": "code",
   "execution_count": 19,
   "metadata": {
    "pycharm": {
     "is_executing": false
    },
    "tags": []
   },
   "outputs": [
    {
     "name": "stderr",
     "output_type": "stream",
     "text": [
      "09/11/2020 13:53:46 - INFO - elasticsearch -   POST http://localhost:9200/document/_search [status:200 request:0.062s]\n",
      "09/11/2020 13:53:47 - INFO - haystack.retriever.sparse -   Got 10 candidates from retriever\n",
      "09/11/2020 13:53:47 - INFO - haystack.finder -   Reader is looking for detailed answer in 170592 chars ...\n",
      "Inferencing Samples: 100%|██████████| 1/1 [00:12<00:00, 12.76s/ Batches]\n",
      "Inferencing Samples: 100%|██████████| 1/1 [00:27<00:00, 27.68s/ Batches]\n",
      "Inferencing Samples: 100%|██████████| 1/1 [00:08<00:00,  8.05s/ Batches]\n",
      "Inferencing Samples: 100%|██████████| 1/1 [00:13<00:00, 13.48s/ Batches]\n",
      "Inferencing Samples: 100%|██████████| 1/1 [00:27<00:00, 27.85s/ Batches]\n",
      "Inferencing Samples: 100%|██████████| 2/2 [00:49<00:00, 24.96s/ Batches]\n",
      "Inferencing Samples: 100%|██████████| 1/1 [00:20<00:00, 20.06s/ Batches]\n",
      "Inferencing Samples: 100%|██████████| 1/1 [00:10<00:00, 10.78s/ Batches]\n",
      "Inferencing Samples: 100%|██████████| 1/1 [00:30<00:00, 30.86s/ Batches]\n",
      "Inferencing Samples: 100%|██████████| 1/1 [00:06<00:00,  6.39s/ Batches]\n"
     ]
    }
   ],
   "source": [
    "# You can configure how many candidates the reader and retriever shall return\n",
    "# The higher top_k_retriever, the better (but also the slower) your answers. \n",
    "prediction = finder.get_answers(question=\"does microsoft help to stop the covid??\", top_k_retriever=10, top_k_reader=5)"
   ]
  },
  {
   "cell_type": "code",
   "execution_count": 20,
   "metadata": {
    "pycharm": {
     "is_executing": false,
     "name": "#%%\n"
    },
    "tags": []
   },
   "outputs": [
    {
     "name": "stdout",
     "output_type": "stream",
     "text": [
      "[   {   'answer': 'we do not suggest this for small virtual meetings as it '\n",
      "                  'stagnates collaboration',\n",
      "        'context': 'ntended interruptions. Importantly, we do not suggest this '\n",
      "                   'for small virtual meetings as it stagnates collaboration. '\n",
      "                   'Third, encourage participants to '},\n",
      "    {   'answer': 'More data will likely reduce the confidence intervals for '\n",
      "                  'the frequencies of each incubation day (Figure 1) , giving '\n",
      "                  'a clearer picture of the actual frequency distribution of '\n",
      "                  'all incubation periods',\n",
      "        'context': ' More data will likely reduce the confidence intervals for '\n",
      "                   'the frequencies of each incubation day (Figure 1) , giving '\n",
      "                   'a clearer picture of the actual frequency distribution of '\n",
      "                   'all incubation periods'},\n",
      "    {   'answer': 'timely city lockdown prevented a subsequent outbreak burst',\n",
      "        'context': 'ulation migration occurred on January 31; the timely city '\n",
      "                   'lockdown prevented a subsequent outbreak burst. We '\n",
      "                   'analyzed the migration into and out of Wu'},\n",
      "    {   'answer': 'The current crisis does not mean that no teaching can '\n",
      "                  'happen',\n",
      "        'context': 'essions to present and discuss other papers.\\n'\n",
      "                   'The current crisis does not mean that no teaching can '\n",
      "                   'happen, but rather that conventional means have to '},\n",
      "    {   'answer': 'this typically contributes little in terms of helping users '\n",
      "                  'understand and navigate the data',\n",
      "        'context': 'gly (see Figure 3 ), however this typically contributes '\n",
      "                   'little in terms of helping users understand and navigate '\n",
      "                   'the data. This problem is especially '}]\n"
     ]
    }
   ],
   "source": [
    "print_answers(prediction, details=\"minimal\")"
   ]
  },
  {
   "cell_type": "code",
   "execution_count": null,
   "metadata": {},
   "outputs": [],
   "source": []
  }
 ],
 "metadata": {
  "kernelspec": {
   "display_name": "haystack37",
   "language": "python",
   "name": "haystack37"
  },
  "language_info": {
   "codemirror_mode": {
    "name": "ipython",
    "version": 3
   },
   "file_extension": ".py",
   "mimetype": "text/x-python",
   "name": "python",
   "nbconvert_exporter": "python",
   "pygments_lexer": "ipython3",
   "version": "3.7.9"
  }
 },
 "nbformat": 4,
 "nbformat_minor": 4
}
